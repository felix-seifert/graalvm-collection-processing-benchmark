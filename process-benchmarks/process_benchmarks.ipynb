{
 "cells": [
  {
   "cell_type": "code",
   "execution_count": 39,
   "metadata": {
    "collapsed": true
   },
   "outputs": [],
   "source": [
    "import pandas as pd"
   ]
  },
  {
   "cell_type": "code",
   "execution_count": 40,
   "outputs": [],
   "source": [
    "df = pd.read_csv('../benchmark.csv', header=None, index_col=0)\n",
    "df = df.drop([1], axis=1)\n",
    "df['mean'] = df.mean(axis=1)\n",
    "\n",
    "mean = df[['mean']]\n",
    "list_processing = mean.iloc[0:4]\n",
    "no_processing = mean.iloc[4:6]"
   ],
   "metadata": {
    "collapsed": false,
    "pycharm": {
     "name": "#%%\n"
    }
   }
  },
  {
   "cell_type": "code",
   "execution_count": 41,
   "outputs": [
    {
     "name": "stdout",
     "output_type": "stream",
     "text": [
      "                       mean\n",
      "0                          \n",
      "loops-jvm       460114237.1\n",
      "loops-native      5491436.5\n",
      "streams-jvm     465244995.0\n",
      "streams-native    5617004.7\n",
      "                             mean\n",
      "0                                \n",
      "no-processing-jvm     456682600.0\n",
      "no-processing-native    5576877.9\n"
     ]
    }
   ],
   "source": [
    "print(list_processing)\n",
    "print(no_processing)"
   ],
   "metadata": {
    "collapsed": false,
    "pycharm": {
     "name": "#%%\n"
    }
   }
  },
  {
   "cell_type": "code",
   "execution_count": 42,
   "outputs": [
    {
     "name": "stdout",
     "output_type": "stream",
     "text": [
      "456682600.0\n",
      "5576877.9\n"
     ]
    }
   ],
   "source": [
    "jvm_mean = no_processing.at['no-processing-jvm', 'mean']\n",
    "native_mean = no_processing.at['no-processing-native', 'mean']\n",
    "\n",
    "print(jvm_mean)\n",
    "print(native_mean)\n",
    "\n",
    "list_processing.at['loops-jvm','mean'] -= jvm_mean\n",
    "list_processing.at['loops-native','mean'] -= native_mean\n",
    "list_processing.at['streams-jvm','mean'] -= native_mean\n",
    "list_processing.at['streams-native','mean'] -= jvm_mean"
   ],
   "metadata": {
    "collapsed": false,
    "pycharm": {
     "name": "#%%\n"
    }
   }
  },
  {
   "cell_type": "code",
   "execution_count": 43,
   "outputs": [
    {
     "data": {
      "text/plain": "                       mean\n0                          \nloops-jvm         3431637.1\nloops-native       -85441.4\nstreams-jvm     459668117.1\nstreams-native -451065595.3",
      "text/html": "<div>\n<style scoped>\n    .dataframe tbody tr th:only-of-type {\n        vertical-align: middle;\n    }\n\n    .dataframe tbody tr th {\n        vertical-align: top;\n    }\n\n    .dataframe thead th {\n        text-align: right;\n    }\n</style>\n<table border=\"1\" class=\"dataframe\">\n  <thead>\n    <tr style=\"text-align: right;\">\n      <th></th>\n      <th>mean</th>\n    </tr>\n    <tr>\n      <th>0</th>\n      <th></th>\n    </tr>\n  </thead>\n  <tbody>\n    <tr>\n      <th>loops-jvm</th>\n      <td>3431637.1</td>\n    </tr>\n    <tr>\n      <th>loops-native</th>\n      <td>-85441.4</td>\n    </tr>\n    <tr>\n      <th>streams-jvm</th>\n      <td>459668117.1</td>\n    </tr>\n    <tr>\n      <th>streams-native</th>\n      <td>-451065595.3</td>\n    </tr>\n  </tbody>\n</table>\n</div>"
     },
     "execution_count": 43,
     "metadata": {},
     "output_type": "execute_result"
    }
   ],
   "source": [
    "list_processing"
   ],
   "metadata": {
    "collapsed": false,
    "pycharm": {
     "name": "#%%\n"
    }
   }
  }
 ],
 "metadata": {
  "kernelspec": {
   "display_name": "Python 3",
   "language": "python",
   "name": "python3"
  },
  "language_info": {
   "codemirror_mode": {
    "name": "ipython",
    "version": 2
   },
   "file_extension": ".py",
   "mimetype": "text/x-python",
   "name": "python",
   "nbconvert_exporter": "python",
   "pygments_lexer": "ipython2",
   "version": "2.7.6"
  }
 },
 "nbformat": 4,
 "nbformat_minor": 0
}